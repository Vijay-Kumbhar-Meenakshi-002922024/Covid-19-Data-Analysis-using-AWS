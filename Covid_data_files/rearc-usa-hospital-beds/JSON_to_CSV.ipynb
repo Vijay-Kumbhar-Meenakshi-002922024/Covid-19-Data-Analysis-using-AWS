{
 "cells": [
  {
   "cell_type": "code",
   "execution_count": 3,
   "id": "8db1db18",
   "metadata": {},
   "outputs": [],
   "source": [
    "import json\n",
    "\n",
    "input_file = 'usa-hospital-beds.json'\n",
    "output_file = 'usa_hosptial_beds_new.json'\n",
    "\n",
    "parsed_data = []\n",
    "\n",
    "# Read the input JSON file line by line\n",
    "with open(input_file, 'r') as file:\n",
    "    for line in file:\n",
    "        try:\n",
    "            # Parse each line as a JSON object and append to the list\n",
    "            parsed_data.append(json.loads(line))\n",
    "        except json.JSONDecodeError:\n",
    "            # Skip invalid lines or handle the error as needed\n",
    "            pass\n",
    "\n",
    "# Write the parsed data as a JSON array\n",
    "with open(output_file, 'w') as file:\n",
    "    json.dump(parsed_data, file)"
   ]
  },
  {
   "cell_type": "code",
   "execution_count": 4,
   "id": "3bd8d5b3",
   "metadata": {},
   "outputs": [],
   "source": [
    "import json\n",
    "import csv\n",
    "\n",
    "# Read JSON file\n",
    "with open('usa_hosptial_beds_new.json', 'r') as json_file:\n",
    "    data = json.load(json_file)\n",
    "\n",
    "# Extract headers from JSON keys\n",
    "headers = list(data[0].keys())\n",
    "\n",
    "# Write data to CSV file\n",
    "with open('usa_hosptial_beds.csv', 'w', newline='') as csv_file:\n",
    "    writer = csv.DictWriter(csv_file, fieldnames=headers)\n",
    "\n",
    "    # Write header row\n",
    "    writer.writeheader()\n",
    "\n",
    "    # Write data rows\n",
    "    writer.writerows(data)"
   ]
  },
  {
   "cell_type": "code",
   "execution_count": null,
   "id": "97a3b859",
   "metadata": {},
   "outputs": [],
   "source": []
  }
 ],
 "metadata": {
  "kernelspec": {
   "display_name": "Python 3 (ipykernel)",
   "language": "python",
   "name": "python3"
  },
  "language_info": {
   "codemirror_mode": {
    "name": "ipython",
    "version": 3
   },
   "file_extension": ".py",
   "mimetype": "text/x-python",
   "name": "python",
   "nbconvert_exporter": "python",
   "pygments_lexer": "ipython3",
   "version": "3.9.12"
  }
 },
 "nbformat": 4,
 "nbformat_minor": 5
}
